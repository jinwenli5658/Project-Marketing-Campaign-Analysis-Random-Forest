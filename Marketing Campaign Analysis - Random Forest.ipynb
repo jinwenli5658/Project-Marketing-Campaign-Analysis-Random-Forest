{
 "cells": [
  {
   "cell_type": "markdown",
   "metadata": {},
   "source": [
    " "
   ]
  },
  {
   "cell_type": "markdown",
   "metadata": {},
   "source": [
    "# Marketing Campaign Data Analysis"
   ]
  },
  {
   "cell_type": "markdown",
   "metadata": {},
   "source": [
    "### Direct marketing vs Mass Marketing"
   ]
  },
  {
   "cell_type": "markdown",
   "metadata": {},
   "source": [
    "### Direct marketing data"
   ]
  },
  {
   "cell_type": "markdown",
   "metadata": {},
   "source": [
    "<p>We collected data from a Portuguese bank that used its own contact-center to do directed marketing campaigns. </p>\n",
    "<p>The dataset collected is related to 17 campaigns that occurred between May 2008 and November 2010, corresponding to a total of 41188 customers (a customer can be contacted more than once). </p>\n",
    "<p>During these phone campaigns, an attractive long-term deposit application, with good interest rates, was offered. For each contact, a large number of attributes was stored and if there was a success (the target variable). For the whole database considered, there were 4640\n",
    "successes (11% success rate).</p>"
   ]
  },
  {
   "cell_type": "markdown",
   "metadata": {},
   "source": [
    "##### Input variables:<br>\n",
    "**- client data:**<br>\n",
    "1 - cust_id : customer id<br>\n",
    "2 - age (numeric)<br>\n",
    "3 - job : type of job (categorical: 'admin.','blue-collar','entrepreneur','housemaid','management','retired','self-employed','services','student','technician','unemployed')<br>\n",
    "4 - marital : marital status (categorical: 'divorced','married','single')<br>\n",
    "5 - education (categorical: 'basic.4y','basic.6y','basic.9y','high.school','illiterate','professional.course','university.degree')<br>\n",
    "6 - default: has credit in default? (categorical: 'no','yes')<br>\n",
    "7 - mortgage: has housing loan? (categorical: 'no','yes')<br>\n",
    "8 - loan: has personal loan? (categorical: 'no','yes')<br>\n",
    "<br>\n",
    "**- related with the last contact of the current campaign:**<br>\n",
    "9 - contact_type: contact communication type (categorical: 'cellular','telephone')<br> \n",
    "10 - date: last contact date<br>\n",
    "11 - duration: last contact duration, in seconds (numeric)<br>\n",
    "<br>\n",
    "**- other attributes:**<br>\n",
    "12 - contact_num: number of contacts performed during this campaign and for this client (numeric, includes last contact)<br>\n",
    "13 - p_days: number of days that passed by after the client was last contacted from a previous campaign (numeric; 999 means client was not previously contacted)<br>\n",
    "14 - p_outcome: outcome of the previous marketing campaign (categorical: 'failure','nonexistent','success')<br>\n",
    "<br>\n",
    "##### Output variables:<br>\n",
    "15 - y - has the client subscribed a term deposit? (binary: 'yes','no')"
   ]
  },
  {
   "cell_type": "markdown",
   "metadata": {},
   "source": [
    "## Import libraries and load dataset"
   ]
  },
  {
   "cell_type": "code",
   "execution_count": 1,
   "metadata": {},
   "outputs": [
    {
     "name": "stdout",
     "output_type": "stream",
     "text": [
      "current pandas version: 0.25.1\n",
      "current scikit-learn version: 1.0.2\n",
      "current seaborn version: 0.9.0\n"
     ]
    }
   ],
   "source": [
    "import warnings\n",
    "warnings.simplefilter(action='ignore', category=FutureWarning)\n",
    "\n",
    "import os\n",
    "import numpy as np\n",
    "import pandas as pd\n",
    "import sklearn\n",
    "import seaborn as sns\n",
    "import matplotlib.pyplot as plt\n",
    "%matplotlib inline\n",
    "\n",
    "# Inspired from stackoverflow.com/questions/25239958\n",
    "from sklearn.base import BaseEstimator, TransformerMixin\n",
    "class MostFrequentImputer(BaseEstimator, TransformerMixin):\n",
    "    def fit(self, X, y=None):\n",
    "        self.most_frequent_ = pd.Series([X[c].value_counts().index[0] for c in X],\n",
    "                                        index=X.columns)\n",
    "        return self\n",
    "    def transform(self, X, y=None):\n",
    "        return X.fillna(self.most_frequent_)\n",
    "\n",
    "pd.set_option('display.max_rows', 500)\n",
    "pd.set_option('display.max_columns', 500)\n",
    "pd.set_option('display.max_colwidth', 1000)\n",
    "\n",
    "print(\"current pandas version: \" + pd.__version__)\n",
    "print(\"current scikit-learn version: \" + sklearn.__version__)\n",
    "print(\"current seaborn version: \" + sns.__version__)"
   ]
  },
  {
   "cell_type": "code",
   "execution_count": 2,
   "metadata": {},
   "outputs": [],
   "source": [
    "cust = pd.read_excel('cust_v2.xlsx')\n",
    "contact = pd.read_csv('contact_v2.csv')"
   ]
  },
  {
   "cell_type": "markdown",
   "metadata": {},
   "source": [
    "## Data overview"
   ]
  },
  {
   "cell_type": "code",
   "execution_count": 3,
   "metadata": {},
   "outputs": [
    {
     "name": "stdout",
     "output_type": "stream",
     "text": [
      "(42188, 8)\n",
      "(41188, 8)\n"
     ]
    }
   ],
   "source": [
    "print(cust.shape)\n",
    "print(contact.shape)"
   ]
  },
  {
   "cell_type": "code",
   "execution_count": 4,
   "metadata": {},
   "outputs": [
    {
     "data": {
      "text/html": [
       "<div>\n",
       "<style scoped>\n",
       "    .dataframe tbody tr th:only-of-type {\n",
       "        vertical-align: middle;\n",
       "    }\n",
       "\n",
       "    .dataframe tbody tr th {\n",
       "        vertical-align: top;\n",
       "    }\n",
       "\n",
       "    .dataframe thead th {\n",
       "        text-align: right;\n",
       "    }\n",
       "</style>\n",
       "<table border=\"1\" class=\"dataframe\">\n",
       "  <thead>\n",
       "    <tr style=\"text-align: right;\">\n",
       "      <th></th>\n",
       "      <th>cust_id</th>\n",
       "      <th>age</th>\n",
       "      <th>job</th>\n",
       "      <th>marital</th>\n",
       "      <th>education</th>\n",
       "      <th>default</th>\n",
       "      <th>mortgage</th>\n",
       "      <th>loan</th>\n",
       "    </tr>\n",
       "  </thead>\n",
       "  <tbody>\n",
       "    <tr>\n",
       "      <td>0</td>\n",
       "      <td>78339</td>\n",
       "      <td>48</td>\n",
       "      <td>blue-collar</td>\n",
       "      <td>married</td>\n",
       "      <td>basic.6y</td>\n",
       "      <td>no</td>\n",
       "      <td>yes</td>\n",
       "      <td>no</td>\n",
       "    </tr>\n",
       "    <tr>\n",
       "      <td>1</td>\n",
       "      <td>94962</td>\n",
       "      <td>68</td>\n",
       "      <td>retired</td>\n",
       "      <td>married</td>\n",
       "      <td>university.degree</td>\n",
       "      <td>no</td>\n",
       "      <td>yes</td>\n",
       "      <td>no</td>\n",
       "    </tr>\n",
       "    <tr>\n",
       "      <td>2</td>\n",
       "      <td>71110</td>\n",
       "      <td>45</td>\n",
       "      <td>services</td>\n",
       "      <td>divorced</td>\n",
       "      <td>high.school</td>\n",
       "      <td>unknown</td>\n",
       "      <td>yes</td>\n",
       "      <td>no</td>\n",
       "    </tr>\n",
       "    <tr>\n",
       "      <td>3</td>\n",
       "      <td>97004</td>\n",
       "      <td>28</td>\n",
       "      <td>blue-collar</td>\n",
       "      <td>single</td>\n",
       "      <td>unknown</td>\n",
       "      <td>no</td>\n",
       "      <td>no</td>\n",
       "      <td>no</td>\n",
       "    </tr>\n",
       "    <tr>\n",
       "      <td>4</td>\n",
       "      <td>11598</td>\n",
       "      <td>37</td>\n",
       "      <td>blue-collar</td>\n",
       "      <td>married</td>\n",
       "      <td>professional.course</td>\n",
       "      <td>no</td>\n",
       "      <td>no</td>\n",
       "      <td>no</td>\n",
       "    </tr>\n",
       "  </tbody>\n",
       "</table>\n",
       "</div>"
      ],
      "text/plain": [
       "   cust_id  age          job   marital            education  default mortgage  \\\n",
       "0    78339   48  blue-collar   married             basic.6y       no      yes   \n",
       "1    94962   68      retired   married    university.degree       no      yes   \n",
       "2    71110   45     services  divorced          high.school  unknown      yes   \n",
       "3    97004   28  blue-collar    single              unknown       no       no   \n",
       "4    11598   37  blue-collar   married  professional.course       no       no   \n",
       "\n",
       "  loan  \n",
       "0   no  \n",
       "1   no  \n",
       "2   no  \n",
       "3   no  \n",
       "4   no  "
      ]
     },
     "execution_count": 4,
     "metadata": {},
     "output_type": "execute_result"
    }
   ],
   "source": [
    "cust.head()"
   ]
  },
  {
   "cell_type": "code",
   "execution_count": 5,
   "metadata": {},
   "outputs": [
    {
     "data": {
      "text/html": [
       "<div>\n",
       "<style scoped>\n",
       "    .dataframe tbody tr th:only-of-type {\n",
       "        vertical-align: middle;\n",
       "    }\n",
       "\n",
       "    .dataframe tbody tr th {\n",
       "        vertical-align: top;\n",
       "    }\n",
       "\n",
       "    .dataframe thead th {\n",
       "        text-align: right;\n",
       "    }\n",
       "</style>\n",
       "<table border=\"1\" class=\"dataframe\">\n",
       "  <thead>\n",
       "    <tr style=\"text-align: right;\">\n",
       "      <th></th>\n",
       "      <th>cust_id</th>\n",
       "      <th>contact_type</th>\n",
       "      <th>duration</th>\n",
       "      <th>contact_num</th>\n",
       "      <th>p_days</th>\n",
       "      <th>p_outcome</th>\n",
       "      <th>y</th>\n",
       "      <th>date</th>\n",
       "    </tr>\n",
       "  </thead>\n",
       "  <tbody>\n",
       "    <tr>\n",
       "      <td>0</td>\n",
       "      <td>44715</td>\n",
       "      <td>cellular</td>\n",
       "      <td>108</td>\n",
       "      <td>2</td>\n",
       "      <td>999</td>\n",
       "      <td>nonexistent</td>\n",
       "      <td>no</td>\n",
       "      <td>2008-08-02</td>\n",
       "    </tr>\n",
       "    <tr>\n",
       "      <td>1</td>\n",
       "      <td>62194</td>\n",
       "      <td>telephone</td>\n",
       "      <td>422</td>\n",
       "      <td>5</td>\n",
       "      <td>999</td>\n",
       "      <td>nonexistent</td>\n",
       "      <td>no</td>\n",
       "      <td>2008-06-03</td>\n",
       "    </tr>\n",
       "    <tr>\n",
       "      <td>2</td>\n",
       "      <td>25436</td>\n",
       "      <td>cellular</td>\n",
       "      <td>107</td>\n",
       "      <td>13</td>\n",
       "      <td>999</td>\n",
       "      <td>nonexistent</td>\n",
       "      <td>no</td>\n",
       "      <td>2008-07-16</td>\n",
       "    </tr>\n",
       "    <tr>\n",
       "      <td>3</td>\n",
       "      <td>39633</td>\n",
       "      <td>cellular</td>\n",
       "      <td>311</td>\n",
       "      <td>1</td>\n",
       "      <td>999</td>\n",
       "      <td>nonexistent</td>\n",
       "      <td>no</td>\n",
       "      <td>2008-07-15</td>\n",
       "    </tr>\n",
       "    <tr>\n",
       "      <td>4</td>\n",
       "      <td>92803</td>\n",
       "      <td>cellular</td>\n",
       "      <td>51</td>\n",
       "      <td>1</td>\n",
       "      <td>999</td>\n",
       "      <td>nonexistent</td>\n",
       "      <td>no</td>\n",
       "      <td>2008-11-09</td>\n",
       "    </tr>\n",
       "  </tbody>\n",
       "</table>\n",
       "</div>"
      ],
      "text/plain": [
       "   cust_id contact_type  duration  contact_num  p_days    p_outcome   y  \\\n",
       "0    44715     cellular       108            2     999  nonexistent  no   \n",
       "1    62194    telephone       422            5     999  nonexistent  no   \n",
       "2    25436     cellular       107           13     999  nonexistent  no   \n",
       "3    39633     cellular       311            1     999  nonexistent  no   \n",
       "4    92803     cellular        51            1     999  nonexistent  no   \n",
       "\n",
       "         date  \n",
       "0  2008-08-02  \n",
       "1  2008-06-03  \n",
       "2  2008-07-16  \n",
       "3  2008-07-15  \n",
       "4  2008-11-09  "
      ]
     },
     "execution_count": 5,
     "metadata": {},
     "output_type": "execute_result"
    }
   ],
   "source": [
    "contact.head()"
   ]
  },
  {
   "cell_type": "markdown",
   "metadata": {},
   "source": [
    "## Data Preprocessing"
   ]
  },
  {
   "cell_type": "code",
   "execution_count": 6,
   "metadata": {},
   "outputs": [],
   "source": [
    "# Merge two datasets\n",
    "cmpn = pd.merge(left=contact, right=cust, how='inner', on='cust_id')\n",
    "\n",
    "# Create new columns\n",
    "cmpn['duration_mins'] = cmpn.duration / 60\n",
    "cmpn['date1'] = pd.to_datetime(cmpn.date)\n",
    "cmpn['yrmth'] = cmpn.date1.dt.strftime('%Y%m')\n",
    "cmpn = cmpn.drop(['date'], axis=1)\n",
    "cmpn = cmpn.rename(columns={'date1':'date'})\n",
    "\n",
    "# Drop duplicates and not-in-use column\n",
    "cmpn = cmpn.drop_duplicates()\n",
    "cmpn = cmpn.drop('default', axis=1)"
   ]
  },
  {
   "cell_type": "code",
   "execution_count": 7,
   "metadata": {},
   "outputs": [
    {
     "data": {
      "text/plain": [
       "(41188, 16)"
      ]
     },
     "execution_count": 7,
     "metadata": {},
     "output_type": "execute_result"
    }
   ],
   "source": [
    "cmpn.shape"
   ]
  },
  {
   "cell_type": "code",
   "execution_count": 8,
   "metadata": {},
   "outputs": [
    {
     "data": {
      "text/plain": [
       "cust_id                   int64\n",
       "contact_type             object\n",
       "duration                  int64\n",
       "contact_num               int64\n",
       "p_days                    int64\n",
       "p_outcome                object\n",
       "y                        object\n",
       "age                       int64\n",
       "job                      object\n",
       "marital                  object\n",
       "education                object\n",
       "mortgage                 object\n",
       "loan                     object\n",
       "duration_mins           float64\n",
       "date             datetime64[ns]\n",
       "yrmth                    object\n",
       "dtype: object"
      ]
     },
     "execution_count": 8,
     "metadata": {},
     "output_type": "execute_result"
    }
   ],
   "source": [
    "cmpn.dtypes"
   ]
  },
  {
   "cell_type": "code",
   "execution_count": 9,
   "metadata": {},
   "outputs": [
    {
     "data": {
      "text/html": [
       "<div>\n",
       "<style scoped>\n",
       "    .dataframe tbody tr th:only-of-type {\n",
       "        vertical-align: middle;\n",
       "    }\n",
       "\n",
       "    .dataframe tbody tr th {\n",
       "        vertical-align: top;\n",
       "    }\n",
       "\n",
       "    .dataframe thead th {\n",
       "        text-align: right;\n",
       "    }\n",
       "</style>\n",
       "<table border=\"1\" class=\"dataframe\">\n",
       "  <thead>\n",
       "    <tr style=\"text-align: right;\">\n",
       "      <th></th>\n",
       "      <th>cust_id</th>\n",
       "      <th>contact_type</th>\n",
       "      <th>duration</th>\n",
       "      <th>contact_num</th>\n",
       "      <th>p_days</th>\n",
       "      <th>p_outcome</th>\n",
       "      <th>y</th>\n",
       "      <th>age</th>\n",
       "      <th>job</th>\n",
       "      <th>marital</th>\n",
       "      <th>education</th>\n",
       "      <th>mortgage</th>\n",
       "      <th>loan</th>\n",
       "      <th>duration_mins</th>\n",
       "      <th>date</th>\n",
       "      <th>yrmth</th>\n",
       "    </tr>\n",
       "  </thead>\n",
       "  <tbody>\n",
       "    <tr>\n",
       "      <td>0</td>\n",
       "      <td>44715</td>\n",
       "      <td>cellular</td>\n",
       "      <td>108</td>\n",
       "      <td>2</td>\n",
       "      <td>999</td>\n",
       "      <td>nonexistent</td>\n",
       "      <td>no</td>\n",
       "      <td>52</td>\n",
       "      <td>blue-collar</td>\n",
       "      <td>married</td>\n",
       "      <td>basic.6y</td>\n",
       "      <td>yes</td>\n",
       "      <td>no</td>\n",
       "      <td>1.800000</td>\n",
       "      <td>2008-08-02</td>\n",
       "      <td>200808</td>\n",
       "    </tr>\n",
       "    <tr>\n",
       "      <td>1</td>\n",
       "      <td>62194</td>\n",
       "      <td>telephone</td>\n",
       "      <td>422</td>\n",
       "      <td>5</td>\n",
       "      <td>999</td>\n",
       "      <td>nonexistent</td>\n",
       "      <td>no</td>\n",
       "      <td>31</td>\n",
       "      <td>management</td>\n",
       "      <td>married</td>\n",
       "      <td>university.degree</td>\n",
       "      <td>yes</td>\n",
       "      <td>no</td>\n",
       "      <td>7.033333</td>\n",
       "      <td>2008-06-03</td>\n",
       "      <td>200806</td>\n",
       "    </tr>\n",
       "    <tr>\n",
       "      <td>2</td>\n",
       "      <td>25436</td>\n",
       "      <td>cellular</td>\n",
       "      <td>107</td>\n",
       "      <td>13</td>\n",
       "      <td>999</td>\n",
       "      <td>nonexistent</td>\n",
       "      <td>no</td>\n",
       "      <td>36</td>\n",
       "      <td>entrepreneur</td>\n",
       "      <td>married</td>\n",
       "      <td>university.degree</td>\n",
       "      <td>yes</td>\n",
       "      <td>no</td>\n",
       "      <td>1.783333</td>\n",
       "      <td>2008-07-16</td>\n",
       "      <td>200807</td>\n",
       "    </tr>\n",
       "    <tr>\n",
       "      <td>3</td>\n",
       "      <td>39633</td>\n",
       "      <td>cellular</td>\n",
       "      <td>311</td>\n",
       "      <td>1</td>\n",
       "      <td>999</td>\n",
       "      <td>nonexistent</td>\n",
       "      <td>no</td>\n",
       "      <td>44</td>\n",
       "      <td>blue-collar</td>\n",
       "      <td>married</td>\n",
       "      <td>basic.4y</td>\n",
       "      <td>yes</td>\n",
       "      <td>no</td>\n",
       "      <td>5.183333</td>\n",
       "      <td>2008-07-15</td>\n",
       "      <td>200807</td>\n",
       "    </tr>\n",
       "    <tr>\n",
       "      <td>4</td>\n",
       "      <td>92803</td>\n",
       "      <td>cellular</td>\n",
       "      <td>51</td>\n",
       "      <td>1</td>\n",
       "      <td>999</td>\n",
       "      <td>nonexistent</td>\n",
       "      <td>no</td>\n",
       "      <td>32</td>\n",
       "      <td>admin.</td>\n",
       "      <td>married</td>\n",
       "      <td>university.degree</td>\n",
       "      <td>yes</td>\n",
       "      <td>yes</td>\n",
       "      <td>0.850000</td>\n",
       "      <td>2008-11-09</td>\n",
       "      <td>200811</td>\n",
       "    </tr>\n",
       "  </tbody>\n",
       "</table>\n",
       "</div>"
      ],
      "text/plain": [
       "   cust_id contact_type  duration  contact_num  p_days    p_outcome   y  age  \\\n",
       "0    44715     cellular       108            2     999  nonexistent  no   52   \n",
       "1    62194    telephone       422            5     999  nonexistent  no   31   \n",
       "2    25436     cellular       107           13     999  nonexistent  no   36   \n",
       "3    39633     cellular       311            1     999  nonexistent  no   44   \n",
       "4    92803     cellular        51            1     999  nonexistent  no   32   \n",
       "\n",
       "            job  marital          education mortgage loan  duration_mins  \\\n",
       "0   blue-collar  married           basic.6y      yes   no       1.800000   \n",
       "1    management  married  university.degree      yes   no       7.033333   \n",
       "2  entrepreneur  married  university.degree      yes   no       1.783333   \n",
       "3   blue-collar  married           basic.4y      yes   no       5.183333   \n",
       "4        admin.  married  university.degree      yes  yes       0.850000   \n",
       "\n",
       "        date   yrmth  \n",
       "0 2008-08-02  200808  \n",
       "1 2008-06-03  200806  \n",
       "2 2008-07-16  200807  \n",
       "3 2008-07-15  200807  \n",
       "4 2008-11-09  200811  "
      ]
     },
     "execution_count": 9,
     "metadata": {},
     "output_type": "execute_result"
    }
   ],
   "source": [
    "cmpn.head()"
   ]
  },
  {
   "cell_type": "code",
   "execution_count": 10,
   "metadata": {},
   "outputs": [
    {
     "name": "stdout",
     "output_type": "stream",
     "text": [
      "['contact_type', 'p_outcome', 'y', 'job', 'marital', 'education', 'mortgage', 'loan', 'yrmth']\n",
      "['cust_id', 'duration', 'contact_num', 'p_days', 'age', 'duration_mins', 'date']\n",
      "['cust_id', 'date', 'yrmth']\n",
      "['duration', 'contact_num', 'p_days', 'age', 'duration_mins'] 5\n",
      "['contact_type', 'p_outcome', 'y', 'job', 'marital', 'education', 'mortgage', 'loan'] 8\n",
      "0 - contact_type:\n",
      "cellular     26144\n",
      "telephone    15044\n",
      "Name: contact_type, dtype: int64\n",
      "-------------------------------------------------------\n",
      "\n",
      "1 - p_outcome:\n",
      "nonexistent    35563\n",
      "failure         4252\n",
      "success         1373\n",
      "Name: p_outcome, dtype: int64\n",
      "-------------------------------------------------------\n",
      "\n",
      "2 - y:\n",
      "no     36548\n",
      "yes     4640\n",
      "Name: y, dtype: int64\n",
      "-------------------------------------------------------\n",
      "\n",
      "3 - job:\n",
      "admin.           10422\n",
      "blue-collar       9254\n",
      "technician        6743\n",
      "services          3969\n",
      "management        2924\n",
      "retired           1720\n",
      "entrepreneur      1456\n",
      "self-employed     1421\n",
      "housemaid         1060\n",
      "unemployed        1014\n",
      "student            875\n",
      "unknown            330\n",
      "Name: job, dtype: int64\n",
      "-------------------------------------------------------\n",
      "\n",
      "4 - marital:\n",
      "married     24928\n",
      "single      11568\n",
      "divorced     4612\n",
      "unknown        80\n",
      "Name: marital, dtype: int64\n",
      "-------------------------------------------------------\n",
      "\n",
      "5 - education:\n",
      "university.degree      12168\n",
      "high.school             9515\n",
      "basic.9y                6045\n",
      "professional.course     5243\n",
      "basic.4y                4176\n",
      "basic.6y                2292\n",
      "unknown                 1731\n",
      "illiterate                18\n",
      "Name: education, dtype: int64\n",
      "-------------------------------------------------------\n",
      "\n",
      "6 - mortgage:\n",
      "yes        21576\n",
      "no         18622\n",
      "unknown      990\n",
      "Name: mortgage, dtype: int64\n",
      "-------------------------------------------------------\n",
      "\n",
      "7 - loan:\n",
      "no         33950\n",
      "yes         6248\n",
      "unknown      990\n",
      "Name: loan, dtype: int64\n",
      "-------------------------------------------------------\n",
      "\n"
     ]
    }
   ],
   "source": [
    "col_type = cmpn.dtypes\n",
    "var_cat = col_type[col_type=='object'].index.tolist()\n",
    "var_num = col_type[col_type!='object'].index.tolist()\n",
    "var_key = ['cust_id','date','yrmth']\n",
    "\n",
    "print(var_cat)\n",
    "print(var_num)\n",
    "print(var_key)\n",
    "\n",
    "var_num = [item for item in var_num if item not in var_key]\n",
    "print(var_num, len(var_num))\n",
    "var_cat = [item for item in var_cat if item not in var_key]\n",
    "print(var_cat, len(var_cat))\n",
    "\n",
    "# Get categorical variable distribution\n",
    "for i, var in enumerate(var_cat):\n",
    "    print(str(i) + \" - \" + str(var) + \":\")\n",
    "    print(cmpn[var].value_counts(dropna=False))\n",
    "    print('-------------------------------------------------------')\n",
    "    print()"
   ]
  },
  {
   "cell_type": "markdown",
   "metadata": {},
   "source": [
    "### Check Missing Value"
   ]
  },
  {
   "cell_type": "code",
   "execution_count": 11,
   "metadata": {},
   "outputs": [
    {
     "name": "stdout",
     "output_type": "stream",
     "text": [
      "<class 'pandas.core.frame.DataFrame'>\n",
      "Int64Index: 41188 entries, 0 to 41187\n",
      "Data columns (total 16 columns):\n",
      "cust_id          41188 non-null int64\n",
      "contact_type     41188 non-null object\n",
      "duration         41188 non-null int64\n",
      "contact_num      41188 non-null int64\n",
      "p_days           41188 non-null int64\n",
      "p_outcome        41188 non-null object\n",
      "y                41188 non-null object\n",
      "age              41188 non-null int64\n",
      "job              41188 non-null object\n",
      "marital          41188 non-null object\n",
      "education        41188 non-null object\n",
      "mortgage         41188 non-null object\n",
      "loan             41188 non-null object\n",
      "duration_mins    41188 non-null float64\n",
      "date             41188 non-null datetime64[ns]\n",
      "yrmth            41188 non-null object\n",
      "dtypes: datetime64[ns](1), float64(1), int64(5), object(9)\n",
      "memory usage: 5.3+ MB\n"
     ]
    }
   ],
   "source": [
    "cmpn.info()"
   ]
  },
  {
   "cell_type": "code",
   "execution_count": 12,
   "metadata": {},
   "outputs": [
    {
     "data": {
      "text/html": [
       "<div>\n",
       "<style scoped>\n",
       "    .dataframe tbody tr th:only-of-type {\n",
       "        vertical-align: middle;\n",
       "    }\n",
       "\n",
       "    .dataframe tbody tr th {\n",
       "        vertical-align: top;\n",
       "    }\n",
       "\n",
       "    .dataframe thead th {\n",
       "        text-align: right;\n",
       "    }\n",
       "</style>\n",
       "<table border=\"1\" class=\"dataframe\">\n",
       "  <thead>\n",
       "    <tr style=\"text-align: right;\">\n",
       "      <th></th>\n",
       "      <th>FeatureType</th>\n",
       "      <th>IsMissing</th>\n",
       "      <th>MissingCnt</th>\n",
       "    </tr>\n",
       "  </thead>\n",
       "  <tbody>\n",
       "    <tr>\n",
       "      <td>cust_id</td>\n",
       "      <td>int64</td>\n",
       "      <td>False</td>\n",
       "      <td>0</td>\n",
       "    </tr>\n",
       "    <tr>\n",
       "      <td>contact_type</td>\n",
       "      <td>object</td>\n",
       "      <td>False</td>\n",
       "      <td>0</td>\n",
       "    </tr>\n",
       "    <tr>\n",
       "      <td>duration</td>\n",
       "      <td>int64</td>\n",
       "      <td>False</td>\n",
       "      <td>0</td>\n",
       "    </tr>\n",
       "    <tr>\n",
       "      <td>contact_num</td>\n",
       "      <td>int64</td>\n",
       "      <td>False</td>\n",
       "      <td>0</td>\n",
       "    </tr>\n",
       "    <tr>\n",
       "      <td>p_days</td>\n",
       "      <td>int64</td>\n",
       "      <td>False</td>\n",
       "      <td>0</td>\n",
       "    </tr>\n",
       "    <tr>\n",
       "      <td>p_outcome</td>\n",
       "      <td>object</td>\n",
       "      <td>False</td>\n",
       "      <td>0</td>\n",
       "    </tr>\n",
       "    <tr>\n",
       "      <td>y</td>\n",
       "      <td>object</td>\n",
       "      <td>False</td>\n",
       "      <td>0</td>\n",
       "    </tr>\n",
       "    <tr>\n",
       "      <td>age</td>\n",
       "      <td>int64</td>\n",
       "      <td>False</td>\n",
       "      <td>0</td>\n",
       "    </tr>\n",
       "    <tr>\n",
       "      <td>job</td>\n",
       "      <td>object</td>\n",
       "      <td>False</td>\n",
       "      <td>0</td>\n",
       "    </tr>\n",
       "    <tr>\n",
       "      <td>marital</td>\n",
       "      <td>object</td>\n",
       "      <td>False</td>\n",
       "      <td>0</td>\n",
       "    </tr>\n",
       "    <tr>\n",
       "      <td>education</td>\n",
       "      <td>object</td>\n",
       "      <td>False</td>\n",
       "      <td>0</td>\n",
       "    </tr>\n",
       "    <tr>\n",
       "      <td>mortgage</td>\n",
       "      <td>object</td>\n",
       "      <td>False</td>\n",
       "      <td>0</td>\n",
       "    </tr>\n",
       "    <tr>\n",
       "      <td>loan</td>\n",
       "      <td>object</td>\n",
       "      <td>False</td>\n",
       "      <td>0</td>\n",
       "    </tr>\n",
       "    <tr>\n",
       "      <td>duration_mins</td>\n",
       "      <td>float64</td>\n",
       "      <td>False</td>\n",
       "      <td>0</td>\n",
       "    </tr>\n",
       "    <tr>\n",
       "      <td>date</td>\n",
       "      <td>datetime64[ns]</td>\n",
       "      <td>False</td>\n",
       "      <td>0</td>\n",
       "    </tr>\n",
       "    <tr>\n",
       "      <td>yrmth</td>\n",
       "      <td>object</td>\n",
       "      <td>False</td>\n",
       "      <td>0</td>\n",
       "    </tr>\n",
       "  </tbody>\n",
       "</table>\n",
       "</div>"
      ],
      "text/plain": [
       "                  FeatureType  IsMissing  MissingCnt\n",
       "cust_id                 int64      False           0\n",
       "contact_type           object      False           0\n",
       "duration                int64      False           0\n",
       "contact_num             int64      False           0\n",
       "p_days                  int64      False           0\n",
       "p_outcome              object      False           0\n",
       "y                      object      False           0\n",
       "age                     int64      False           0\n",
       "job                    object      False           0\n",
       "marital                object      False           0\n",
       "education              object      False           0\n",
       "mortgage               object      False           0\n",
       "loan                   object      False           0\n",
       "duration_mins         float64      False           0\n",
       "date           datetime64[ns]      False           0\n",
       "yrmth                  object      False           0"
      ]
     },
     "execution_count": 12,
     "metadata": {},
     "output_type": "execute_result"
    }
   ],
   "source": [
    "MissingSummary = pd.concat([cmpn.dtypes, cmpn.isnull().any(axis=0), cmpn.isnull().sum(axis=0)], axis=1)\n",
    "MissingSummary.columns = ['FeatureType','IsMissing', 'MissingCnt']\n",
    "MissingSummary"
   ]
  },
  {
   "cell_type": "markdown",
   "metadata": {},
   "source": [
    "### Impute Numeric Values"
   ]
  },
  {
   "cell_type": "code",
   "execution_count": 13,
   "metadata": {},
   "outputs": [],
   "source": [
    "try:\n",
    "    from sklearn.impute import SimpleImputer # Scikit-Learn 0.20+\n",
    "except ImportError:\n",
    "    from sklearn.preprocessing import Imputer as SimpleImputer"
   ]
  },
  {
   "cell_type": "code",
   "execution_count": 14,
   "metadata": {},
   "outputs": [],
   "source": [
    "# Create a SimpleImputer object with strategy = 'median'\n",
    "# sk learn specific requirement -- create an object that tells sklearn to impute the data using median\n",
    "imputer = SimpleImputer(strategy=\"median\")\n",
    "\n",
    "# Select the numerical columns only\n",
    "cmpn_num = cmpn[var_num]\n",
    "mindex = cmpn_num[cmpn_num.age.isna()].head().index\n",
    "cmpn_num[cmpn_num.age.isna()].head()\n",
    "\n",
    "X = imputer.fit_transform(cmpn_num)\n",
    "cmpn_num_df = pd.DataFrame(X, columns=cmpn_num.columns)"
   ]
  },
  {
   "cell_type": "code",
   "execution_count": 15,
   "metadata": {},
   "outputs": [
    {
     "data": {
      "text/html": [
       "<div>\n",
       "<style scoped>\n",
       "    .dataframe tbody tr th:only-of-type {\n",
       "        vertical-align: middle;\n",
       "    }\n",
       "\n",
       "    .dataframe tbody tr th {\n",
       "        vertical-align: top;\n",
       "    }\n",
       "\n",
       "    .dataframe thead th {\n",
       "        text-align: right;\n",
       "    }\n",
       "</style>\n",
       "<table border=\"1\" class=\"dataframe\">\n",
       "  <thead>\n",
       "    <tr style=\"text-align: right;\">\n",
       "      <th></th>\n",
       "      <th>duration</th>\n",
       "      <th>contact_num</th>\n",
       "      <th>p_days</th>\n",
       "      <th>age</th>\n",
       "      <th>duration_mins</th>\n",
       "    </tr>\n",
       "  </thead>\n",
       "  <tbody>\n",
       "  </tbody>\n",
       "</table>\n",
       "</div>"
      ],
      "text/plain": [
       "Empty DataFrame\n",
       "Columns: [duration, contact_num, p_days, age, duration_mins]\n",
       "Index: []"
      ]
     },
     "execution_count": 15,
     "metadata": {},
     "output_type": "execute_result"
    }
   ],
   "source": [
    "cmpn_num_df.loc[mindex]"
   ]
  },
  {
   "cell_type": "markdown",
   "metadata": {},
   "source": [
    "### Impute Categorical Values"
   ]
  },
  {
   "cell_type": "code",
   "execution_count": 16,
   "metadata": {},
   "outputs": [
    {
     "data": {
      "text/html": [
       "<div>\n",
       "<style scoped>\n",
       "    .dataframe tbody tr th:only-of-type {\n",
       "        vertical-align: middle;\n",
       "    }\n",
       "\n",
       "    .dataframe tbody tr th {\n",
       "        vertical-align: top;\n",
       "    }\n",
       "\n",
       "    .dataframe thead th {\n",
       "        text-align: right;\n",
       "    }\n",
       "</style>\n",
       "<table border=\"1\" class=\"dataframe\">\n",
       "  <thead>\n",
       "    <tr style=\"text-align: right;\">\n",
       "      <th></th>\n",
       "      <th>contact_type</th>\n",
       "      <th>p_outcome</th>\n",
       "      <th>y</th>\n",
       "      <th>job</th>\n",
       "      <th>marital</th>\n",
       "      <th>education</th>\n",
       "      <th>mortgage</th>\n",
       "      <th>loan</th>\n",
       "    </tr>\n",
       "  </thead>\n",
       "  <tbody>\n",
       "  </tbody>\n",
       "</table>\n",
       "</div>"
      ],
      "text/plain": [
       "Empty DataFrame\n",
       "Columns: [contact_type, p_outcome, y, job, marital, education, mortgage, loan]\n",
       "Index: []"
      ]
     },
     "execution_count": 16,
     "metadata": {},
     "output_type": "execute_result"
    }
   ],
   "source": [
    "cmpn_cat = cmpn[var_cat]\n",
    "\n",
    "mindex = cmpn_cat[cmpn_cat.isnull().any(axis='columns')].head().index\n",
    "\n",
    "class MostFrequentImputer(BaseEstimator, TransformerMixin):\n",
    "    def fit(self, X, y=None):\n",
    "        self.most_frequent_ = pd.Series([X[c].value_counts().index[0] for c in X],\n",
    "                                        index=X.columns)\n",
    "        return self\n",
    "    def transform(self, X, y=None):\n",
    "        return X.fillna(self.most_frequent_)\n",
    "    \n",
    "MI = MostFrequentImputer()\n",
    "MI.fit(cmpn_cat)\n",
    "\n",
    "cmpn_cat_df = MI.transform(cmpn_cat)\n",
    "cmpn_cat_df.loc[mindex]"
   ]
  },
  {
   "cell_type": "code",
   "execution_count": 17,
   "metadata": {},
   "outputs": [
    {
     "data": {
      "text/plain": [
       "[Index(['cust_id', 'contact_type', 'duration', 'contact_num', 'p_days',\n",
       "        'p_outcome', 'y', 'age', 'job', 'marital', 'education', 'mortgage',\n",
       "        'loan', 'duration_mins', 'date', 'yrmth'],\n",
       "       dtype='object')]"
      ]
     },
     "execution_count": 17,
     "metadata": {},
     "output_type": "execute_result"
    }
   ],
   "source": [
    "[cmpn.columns]"
   ]
  },
  {
   "cell_type": "code",
   "execution_count": 18,
   "metadata": {},
   "outputs": [],
   "source": [
    "cmpn = pd.concat([cmpn[var_key],cmpn_num_df,cmpn_cat_df], axis=1)[cmpn.columns]"
   ]
  },
  {
   "cell_type": "markdown",
   "metadata": {},
   "source": [
    "## Seasonality Check on y"
   ]
  },
  {
   "cell_type": "code",
   "execution_count": 19,
   "metadata": {},
   "outputs": [
    {
     "data": {
      "text/plain": [
       "5     13769\n",
       "7      7174\n",
       "8      6178\n",
       "6      5318\n",
       "11     4101\n",
       "4      2632\n",
       "10      718\n",
       "9       570\n",
       "3       546\n",
       "12      182\n",
       "Name: month, dtype: int64"
      ]
     },
     "execution_count": 19,
     "metadata": {},
     "output_type": "execute_result"
    }
   ],
   "source": [
    "# Add month column\n",
    "cmpn['month'] = cmpn.date.dt.month\n",
    "cmpn.month.value_counts()"
   ]
  },
  {
   "cell_type": "code",
   "execution_count": 20,
   "metadata": {},
   "outputs": [
    {
     "data": {
      "text/html": [
       "<div>\n",
       "<style scoped>\n",
       "    .dataframe tbody tr th:only-of-type {\n",
       "        vertical-align: middle;\n",
       "    }\n",
       "\n",
       "    .dataframe tbody tr th {\n",
       "        vertical-align: top;\n",
       "    }\n",
       "\n",
       "    .dataframe thead th {\n",
       "        text-align: right;\n",
       "    }\n",
       "</style>\n",
       "<table border=\"1\" class=\"dataframe\">\n",
       "  <thead>\n",
       "    <tr style=\"text-align: right;\">\n",
       "      <th>y</th>\n",
       "      <th>no</th>\n",
       "      <th>yes</th>\n",
       "      <th>All</th>\n",
       "    </tr>\n",
       "    <tr>\n",
       "      <th>month</th>\n",
       "      <th></th>\n",
       "      <th></th>\n",
       "      <th></th>\n",
       "    </tr>\n",
       "  </thead>\n",
       "  <tbody>\n",
       "    <tr>\n",
       "      <td>3</td>\n",
       "      <td>270</td>\n",
       "      <td>276</td>\n",
       "      <td>546</td>\n",
       "    </tr>\n",
       "    <tr>\n",
       "      <td>4</td>\n",
       "      <td>2093</td>\n",
       "      <td>539</td>\n",
       "      <td>2632</td>\n",
       "    </tr>\n",
       "    <tr>\n",
       "      <td>5</td>\n",
       "      <td>12883</td>\n",
       "      <td>886</td>\n",
       "      <td>13769</td>\n",
       "    </tr>\n",
       "    <tr>\n",
       "      <td>6</td>\n",
       "      <td>4759</td>\n",
       "      <td>559</td>\n",
       "      <td>5318</td>\n",
       "    </tr>\n",
       "    <tr>\n",
       "      <td>7</td>\n",
       "      <td>6525</td>\n",
       "      <td>649</td>\n",
       "      <td>7174</td>\n",
       "    </tr>\n",
       "    <tr>\n",
       "      <td>8</td>\n",
       "      <td>5523</td>\n",
       "      <td>655</td>\n",
       "      <td>6178</td>\n",
       "    </tr>\n",
       "    <tr>\n",
       "      <td>9</td>\n",
       "      <td>314</td>\n",
       "      <td>256</td>\n",
       "      <td>570</td>\n",
       "    </tr>\n",
       "    <tr>\n",
       "      <td>10</td>\n",
       "      <td>403</td>\n",
       "      <td>315</td>\n",
       "      <td>718</td>\n",
       "    </tr>\n",
       "    <tr>\n",
       "      <td>11</td>\n",
       "      <td>3685</td>\n",
       "      <td>416</td>\n",
       "      <td>4101</td>\n",
       "    </tr>\n",
       "    <tr>\n",
       "      <td>12</td>\n",
       "      <td>93</td>\n",
       "      <td>89</td>\n",
       "      <td>182</td>\n",
       "    </tr>\n",
       "    <tr>\n",
       "      <td>All</td>\n",
       "      <td>36548</td>\n",
       "      <td>4640</td>\n",
       "      <td>41188</td>\n",
       "    </tr>\n",
       "  </tbody>\n",
       "</table>\n",
       "</div>"
      ],
      "text/plain": [
       "y         no   yes    All\n",
       "month                    \n",
       "3        270   276    546\n",
       "4       2093   539   2632\n",
       "5      12883   886  13769\n",
       "6       4759   559   5318\n",
       "7       6525   649   7174\n",
       "8       5523   655   6178\n",
       "9        314   256    570\n",
       "10       403   315    718\n",
       "11      3685   416   4101\n",
       "12        93    89    182\n",
       "All    36548  4640  41188"
      ]
     },
     "execution_count": 20,
     "metadata": {},
     "output_type": "execute_result"
    }
   ],
   "source": [
    "res = cmpn.pivot_table(values='cust_id', index='month', columns='y', aggfunc='count', margins=True)\n",
    "res"
   ]
  },
  {
   "cell_type": "code",
   "execution_count": 21,
   "metadata": {},
   "outputs": [
    {
     "data": {
      "text/html": [
       "<div>\n",
       "<style scoped>\n",
       "    .dataframe tbody tr th:only-of-type {\n",
       "        vertical-align: middle;\n",
       "    }\n",
       "\n",
       "    .dataframe tbody tr th {\n",
       "        vertical-align: top;\n",
       "    }\n",
       "\n",
       "    .dataframe thead th {\n",
       "        text-align: right;\n",
       "    }\n",
       "</style>\n",
       "<table border=\"1\" class=\"dataframe\">\n",
       "  <thead>\n",
       "    <tr style=\"text-align: right;\">\n",
       "      <th>y</th>\n",
       "      <th>no</th>\n",
       "      <th>yes</th>\n",
       "      <th>All</th>\n",
       "      <th>response_rate</th>\n",
       "    </tr>\n",
       "    <tr>\n",
       "      <th>month</th>\n",
       "      <th></th>\n",
       "      <th></th>\n",
       "      <th></th>\n",
       "      <th></th>\n",
       "    </tr>\n",
       "  </thead>\n",
       "  <tbody>\n",
       "    <tr>\n",
       "      <td>3</td>\n",
       "      <td>270</td>\n",
       "      <td>276</td>\n",
       "      <td>546</td>\n",
       "      <td>0.505495</td>\n",
       "    </tr>\n",
       "    <tr>\n",
       "      <td>12</td>\n",
       "      <td>93</td>\n",
       "      <td>89</td>\n",
       "      <td>182</td>\n",
       "      <td>0.489011</td>\n",
       "    </tr>\n",
       "    <tr>\n",
       "      <td>9</td>\n",
       "      <td>314</td>\n",
       "      <td>256</td>\n",
       "      <td>570</td>\n",
       "      <td>0.449123</td>\n",
       "    </tr>\n",
       "    <tr>\n",
       "      <td>10</td>\n",
       "      <td>403</td>\n",
       "      <td>315</td>\n",
       "      <td>718</td>\n",
       "      <td>0.438719</td>\n",
       "    </tr>\n",
       "    <tr>\n",
       "      <td>4</td>\n",
       "      <td>2093</td>\n",
       "      <td>539</td>\n",
       "      <td>2632</td>\n",
       "      <td>0.204787</td>\n",
       "    </tr>\n",
       "    <tr>\n",
       "      <td>8</td>\n",
       "      <td>5523</td>\n",
       "      <td>655</td>\n",
       "      <td>6178</td>\n",
       "      <td>0.106021</td>\n",
       "    </tr>\n",
       "    <tr>\n",
       "      <td>6</td>\n",
       "      <td>4759</td>\n",
       "      <td>559</td>\n",
       "      <td>5318</td>\n",
       "      <td>0.105115</td>\n",
       "    </tr>\n",
       "    <tr>\n",
       "      <td>11</td>\n",
       "      <td>3685</td>\n",
       "      <td>416</td>\n",
       "      <td>4101</td>\n",
       "      <td>0.101439</td>\n",
       "    </tr>\n",
       "    <tr>\n",
       "      <td>7</td>\n",
       "      <td>6525</td>\n",
       "      <td>649</td>\n",
       "      <td>7174</td>\n",
       "      <td>0.090466</td>\n",
       "    </tr>\n",
       "    <tr>\n",
       "      <td>5</td>\n",
       "      <td>12883</td>\n",
       "      <td>886</td>\n",
       "      <td>13769</td>\n",
       "      <td>0.064347</td>\n",
       "    </tr>\n",
       "    <tr>\n",
       "      <td>All</td>\n",
       "      <td>36548</td>\n",
       "      <td>4640</td>\n",
       "      <td>41188</td>\n",
       "      <td>0.112654</td>\n",
       "    </tr>\n",
       "  </tbody>\n",
       "</table>\n",
       "</div>"
      ],
      "text/plain": [
       "y         no   yes    All  response_rate\n",
       "month                                   \n",
       "3        270   276    546       0.505495\n",
       "12        93    89    182       0.489011\n",
       "9        314   256    570       0.449123\n",
       "10       403   315    718       0.438719\n",
       "4       2093   539   2632       0.204787\n",
       "8       5523   655   6178       0.106021\n",
       "6       4759   559   5318       0.105115\n",
       "11      3685   416   4101       0.101439\n",
       "7       6525   649   7174       0.090466\n",
       "5      12883   886  13769       0.064347\n",
       "All    36548  4640  41188       0.112654"
      ]
     },
     "execution_count": 21,
     "metadata": {},
     "output_type": "execute_result"
    }
   ],
   "source": [
    "# Add response rate\n",
    "res['response_rate'] = res.yes / res.All\n",
    "res1 = res.iloc[:-1,:].sort_values(by='response_rate', ascending=False)\n",
    "res2 = res.iloc[-1:,:]\n",
    "\n",
    "pd.concat([res1,res2], axis=0)"
   ]
  },
  {
   "cell_type": "markdown",
   "metadata": {},
   "source": [
    "## Discover and Visualize the Data to Gain Insights"
   ]
  },
  {
   "cell_type": "code",
   "execution_count": 22,
   "metadata": {},
   "outputs": [
    {
     "data": {
      "image/png": "[encoded data removed]",
      "text/plain": [
       "<Figure size 1440x360 with 1 Axes>"
      ]
     },
     "metadata": {
      "needs_background": "light"
     },
     "output_type": "display_data"
    }
   ],
   "source": [
    "plt.subplots(figsize=(20,5))\n",
    "sns.countplot(x = 'job', data = cmpn)\n",
    "sns.despine() ##remove black line"
   ]
  },
  {
   "cell_type": "code",
   "execution_count": 23,
   "metadata": {},
   "outputs": [
    {
     "data": {
      "image/png": "[encoded data removed]",
      "text/plain": [
       "<Figure size 1440x360 with 1 Axes>"
      ]
     },
     "metadata": {
      "needs_background": "light"
     },
     "output_type": "display_data"
    }
   ],
   "source": [
    "fig, ax1 = plt.subplots(figsize=(20,5))\n",
    "sns.countplot(x = 'job', data = cmpn, ax = ax1)\n",
    "ax1.set_xlabel('Job', fontsize=15)\n",
    "ax1.set_ylabel('Count', fontsize=15)\n",
    "ax1.set_title('Job Count Distribution', fontsize=15)\n",
    "ax1.tick_params(labelsize=15)\n",
    "sns.despine()"
   ]
  },
  {
   "cell_type": "code",
   "execution_count": 24,
   "metadata": {},
   "outputs": [
    {
     "data": {
      "image/png": "[encoded data removed]",
      "text/plain": [
       "<Figure size 576x360 with 1 Axes>"
      ]
     },
     "metadata": {
      "needs_background": "light"
     },
     "output_type": "display_data"
    }
   ],
   "source": [
    "plt.subplots(figsize=(8,5))\n",
    "sns.boxplot(x='y', y='duration', data=cmpn)\n",
    "sns.despine()"
   ]
  },
  {
   "cell_type": "code",
   "execution_count": 25,
   "metadata": {},
   "outputs": [
    {
     "data": {
      "image/png": "[encoded data removed]",
      "text/plain": [
       "<Figure size 576x360 with 1 Axes>"
      ]
     },
     "metadata": {
      "needs_background": "light"
     },
     "output_type": "display_data"
    }
   ],
   "source": [
    "fig, ax1= plt.subplots(figsize=(8,5))\n",
    "sns.boxplot(x='y', y='duration', data=cmpn, ax=ax1)\n",
    "ax1.set_xlabel('y', fontsize=15)\n",
    "ax1.set_ylabel('Duration', fontsize=15)\n",
    "ax1.set_title('Duration Distribution', fontsize=15)\n",
    "ax1.tick_params(labelsize=15)\n",
    "sns.despine()"
   ]
  },
  {
   "cell_type": "markdown",
   "metadata": {},
   "source": [
    "## Response Prediction"
   ]
  },
  {
   "cell_type": "code",
   "execution_count": 26,
   "metadata": {},
   "outputs": [],
   "source": [
    "df = cmpn.copy()"
   ]
  },
  {
   "cell_type": "code",
   "execution_count": 27,
   "metadata": {},
   "outputs": [
    {
     "data": {
      "text/plain": [
       "0    36548\n",
       "1     4640\n",
       "Name: y, dtype: int64"
      ]
     },
     "execution_count": 27,
     "metadata": {},
     "output_type": "execute_result"
    }
   ],
   "source": [
    "# Change the outcome to binary, i.e. 0 and 1\n",
    "df.loc[df.y=='no','y'] = 0\n",
    "df.loc[df.y=='yes','y'] = 1\n",
    "df['y'] = df.y.astype('int64')\n",
    "df.y.value_counts()"
   ]
  },
  {
   "cell_type": "markdown",
   "metadata": {},
   "source": [
    "#### Categorical variable processing: One-hot encoding"
   ]
  },
  {
   "cell_type": "code",
   "execution_count": 28,
   "metadata": {},
   "outputs": [
    {
     "name": "stdout",
     "output_type": "stream",
     "text": [
      "month:\n",
      "   month  num_contact  response_rate\n",
      "0      3          546       0.505495\n",
      "9     12          182       0.489011\n",
      "6      9          570       0.449123\n",
      "7     10          718       0.438719\n",
      "1      4         2632       0.204787\n",
      "10   All        41188       0.112654\n",
      "5      8         6178       0.106021\n",
      "3      6         5318       0.105115\n",
      "8     11         4101       0.101439\n",
      "4      7         7174       0.090466\n",
      "2      5        13769       0.064347\n",
      "-------------------------------------------------------------------------\n",
      "contact_type:\n",
      "  contact_type  num_contact  response_rate\n",
      "0     cellular        26144       0.147376\n",
      "2          All        41188       0.112654\n",
      "1    telephone        15044       0.052313\n",
      "-------------------------------------------------------------------------\n",
      "p_outcome:\n",
      "     p_outcome  num_contact  response_rate\n",
      "2      success         1373       0.651129\n",
      "0      failure         4252       0.142286\n",
      "3          All        41188       0.112654\n",
      "1  nonexistent        35563       0.088322\n",
      "-------------------------------------------------------------------------\n",
      "y:\n",
      "     y  num_contact  response_rate\n",
      "1  yes         4640       1.000000\n",
      "2  All        41188       0.112654\n",
      "0   no        36548       0.000000\n",
      "-------------------------------------------------------------------------\n",
      "job:\n",
      "              job  num_contact  response_rate\n",
      "8         student          875       0.314286\n",
      "5         retired         1720       0.252326\n",
      "10     unemployed         1014       0.142012\n",
      "0          admin.        10422       0.129726\n",
      "12            All        41188       0.112654\n",
      "4      management         2924       0.112175\n",
      "11        unknown          330       0.112121\n",
      "9      technician         6743       0.108260\n",
      "6   self-employed         1421       0.104856\n",
      "3       housemaid         1060       0.100000\n",
      "2    entrepreneur         1456       0.085165\n",
      "7        services         3969       0.081381\n",
      "1     blue-collar         9254       0.068943\n",
      "-------------------------------------------------------------------------\n",
      "marital:\n",
      "    marital  num_contact  response_rate\n",
      "3   unknown           80       0.150000\n",
      "2    single        11568       0.140041\n",
      "4       All        41188       0.112654\n",
      "0  divorced         4612       0.103209\n",
      "1   married        24928       0.101573\n",
      "-------------------------------------------------------------------------\n",
      "education:\n",
      "             education  num_contact  response_rate\n",
      "4           illiterate           18       0.222222\n",
      "7              unknown         1731       0.145003\n",
      "6    university.degree        12168       0.137245\n",
      "5  professional.course         5243       0.113485\n",
      "8                  All        41188       0.112654\n",
      "3          high.school         9515       0.108355\n",
      "0             basic.4y         4176       0.102490\n",
      "1             basic.6y         2292       0.082024\n",
      "2             basic.9y         6045       0.078246\n",
      "-------------------------------------------------------------------------\n",
      "mortgage:\n",
      "  mortgage  num_contact  response_rate\n",
      "2      yes        21576       0.116194\n",
      "3      All        41188       0.112654\n",
      "0       no        18622       0.108796\n",
      "1  unknown          990       0.108081\n",
      "-------------------------------------------------------------------------\n"
     ]
    }
   ],
   "source": [
    "# response rate by different categorical variables\n",
    "for var in ['month']+var_cat[:-1]:\n",
    "    df1 = pd.crosstab(cmpn[var], cmpn.y, margins= True)\n",
    "    df1.reset_index(inplace = True)\n",
    "    df1.columns.name = ''\n",
    "    df1['num_contact'] = df1.no + df1.yes\n",
    "    df1['response_rate'] = df1.yes / df1.num_contact\n",
    "    df1 = df1[[var, 'num_contact', 'response_rate']]\n",
    "    df1.sort_values(by='response_rate', ascending=False, inplace=True)\n",
    "    print(str(var) + \":\")\n",
    "    print(df1)\n",
    "    print('-------------------------------------------------------------------------')"
   ]
  },
  {
   "cell_type": "code",
   "execution_count": 29,
   "metadata": {},
   "outputs": [
    {
     "name": "stdout",
     "output_type": "stream",
     "text": [
      "0    39172\n",
      "1     2016\n",
      "Name: seasonality, dtype: int64\n",
      "int64\n"
     ]
    }
   ],
   "source": [
    "df.loc[df.month.isin([3,9,10,12]),'seasonality'] = 1\n",
    "df.loc[~df.month.isin([3,9,10,12]),'seasonality'] = 0\n",
    "df.loc[:,'seasonality'] = df.seasonality.astype('int64')\n",
    "print(df.seasonality.value_counts(dropna=False))\n",
    "print(df.seasonality.dtypes)"
   ]
  },
  {
   "cell_type": "code",
   "execution_count": 30,
   "metadata": {},
   "outputs": [
    {
     "name": "stdout",
     "output_type": "stream",
     "text": [
      "0    40313\n",
      "1      875\n",
      "Name: student, dtype: int64\n",
      "int64\n"
     ]
    }
   ],
   "source": [
    "df.loc[df.job=='student','student'] = 1\n",
    "df.loc[df.job!='student','student'] = 0\n",
    "df.loc[:,'student'] = df.student.astype('int64')\n",
    "print(df.student.value_counts(dropna=False))\n",
    "print(df.student.dtypes)"
   ]
  },
  {
   "cell_type": "code",
   "execution_count": 31,
   "metadata": {},
   "outputs": [
    {
     "name": "stdout",
     "output_type": "stream",
     "text": [
      "0    39468\n",
      "1     1720\n",
      "Name: retired, dtype: int64\n",
      "int64\n"
     ]
    }
   ],
   "source": [
    "df.loc[df.job=='retired','retired'] = 1\n",
    "df.loc[~(df.job=='retired'),'retired'] = 0\n",
    "df.loc[:,'retired'] = df.retired.astype('int64')\n",
    "print(df.retired.value_counts(dropna=False))\n",
    "print(df.retired.dtypes)"
   ]
  },
  {
   "cell_type": "code",
   "execution_count": 32,
   "metadata": {},
   "outputs": [
    {
     "name": "stdout",
     "output_type": "stream",
     "text": [
      "0    39815\n",
      "1     1373\n",
      "Name: success, dtype: int64\n",
      "int64\n"
     ]
    }
   ],
   "source": [
    "df.loc[df.p_outcome=='success','success'] = 1\n",
    "df.loc[df.p_outcome!='success','success'] = 0\n",
    "df.loc[:,'success'] = df.success.astype('int64')\n",
    "print(df.success.value_counts(dropna=False))\n",
    "print(df.success.dtypes)"
   ]
  },
  {
   "cell_type": "code",
   "execution_count": 33,
   "metadata": {},
   "outputs": [],
   "source": [
    "# Training Data / Test data 80% vs. 20%\n",
    "X = df[['student','retired','seasonality','success',\n",
    "         'age','duration','contact_num','p_days']]\n",
    "y = df.y"
   ]
  },
  {
   "cell_type": "code",
   "execution_count": 34,
   "metadata": {},
   "outputs": [],
   "source": [
    "from sklearn.model_selection import train_test_split\n",
    "X_train, X_test, y_train, y_test = train_test_split(X, y, test_size=0.2, random_state=824)"
   ]
  },
  {
   "cell_type": "code",
   "execution_count": 35,
   "metadata": {},
   "outputs": [
    {
     "data": {
      "text/plain": [
       "RandomForestClassifier(max_depth=7, random_state=824)"
      ]
     },
     "execution_count": 35,
     "metadata": {},
     "output_type": "execute_result"
    }
   ],
   "source": [
    "from sklearn.ensemble import RandomForestClassifier\n",
    "rf_clf = RandomForestClassifier(max_depth=7, random_state=824)\n",
    "rf_clf.fit(X_train, y_train)"
   ]
  },
  {
   "cell_type": "markdown",
   "metadata": {},
   "source": [
    "### Feature Importance"
   ]
  },
  {
   "cell_type": "code",
   "execution_count": 36,
   "metadata": {},
   "outputs": [
    {
     "name": "stdout",
     "output_type": "stream",
     "text": [
      "student = 0.013\n",
      "retired = 0.007\n",
      "seasonality = 0.124\n",
      "success = 0.097\n",
      "age = 0.069\n",
      "duration = 0.498\n",
      "contact_num = 0.015\n",
      "p_days = 0.176\n"
     ]
    }
   ],
   "source": [
    "for name, importance in zip(X_train.columns.tolist(), rf_clf.feature_importances_):\n",
    "    print('%s = %.3f' %(name, importance))"
   ]
  },
  {
   "cell_type": "code",
   "execution_count": 37,
   "metadata": {},
   "outputs": [
    {
     "data": {
      "image/png": "[encoded data removed]",
      "text/plain": [
       "<Figure size 432x288 with 1 Axes>"
      ]
     },
     "metadata": {
      "needs_background": "light"
     },
     "output_type": "display_data"
    }
   ],
   "source": [
    "features = X_train.columns.tolist()\n",
    "importances = rf_clf.feature_importances_\n",
    "indices = np.argsort(importances)\n",
    "\n",
    "plt.title('Feature Importances')\n",
    "plt.barh(range(len(indices)), importances[indices], color='b', align='center')\n",
    "plt.yticks(range(len(indices)), [features[i] for i in indices])\n",
    "plt.xlabel('Relative Importance')\n",
    "plt.show()"
   ]
  },
  {
   "cell_type": "markdown",
   "metadata": {},
   "source": [
    "## Model Evaluation"
   ]
  },
  {
   "cell_type": "code",
   "execution_count": 38,
   "metadata": {},
   "outputs": [
    {
     "name": "stdout",
     "output_type": "stream",
     "text": [
      "RF train accuracy: 0.909\n",
      "RF test accuracy: 0.906\n"
     ]
    }
   ],
   "source": [
    "print(\"RF train accuracy: %0.3f\" % rf_clf.score(X_train, y_train))\n",
    "print(\"RF test accuracy: %0.3f\" % rf_clf.score(X_test, y_test))"
   ]
  },
  {
   "cell_type": "code",
   "execution_count": 39,
   "metadata": {},
   "outputs": [
    {
     "name": "stdout",
     "output_type": "stream",
     "text": [
      "RF train AUC : 0.9091611713790912\n",
      "RF test AUC: 0.8951270015038925\n"
     ]
    }
   ],
   "source": [
    "from sklearn.metrics import roc_auc_score\n",
    "print('RF train AUC : %s' % roc_auc_score(y_train, rf_clf.predict_proba(X_train)[:,1]))\n",
    "print('RF test AUC: %s' % roc_auc_score(y_test, rf_clf.predict_proba(X_test)[:,1]))"
   ]
  }
 ],
 "metadata": {
  "kernelspec": {
   "display_name": "Python 3",
   "language": "python",
   "name": "python3"
  },
  "language_info": {
   "codemirror_mode": {
    "name": "ipython",
    "version": 3
   },
   "file_extension": ".py",
   "mimetype": "text/x-python",
   "name": "python",
   "nbconvert_exporter": "python",
   "pygments_lexer": "ipython3",
   "version": "3.7.4"
  }
 },
 "nbformat": 4,
 "nbformat_minor": 2
}
